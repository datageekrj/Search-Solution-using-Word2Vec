{
  "nbformat": 4,
  "nbformat_minor": 0,
  "metadata": {
    "colab": {
      "provenance": []
    },
    "kernelspec": {
      "name": "python3",
      "display_name": "Python 3"
    },
    "language_info": {
      "name": "python"
    }
  },
  "cells": [
    {
      "cell_type": "code",
      "execution_count": 7,
      "metadata": {
        "id": "qR383SVjsFhS"
      },
      "outputs": [],
      "source": [
        "from gensim.models import Word2Vec\n",
        "import re\n",
        "from nltk.tokenize import word_tokenize\n",
        "import nltk\n",
        "from nltk.corpus import stopwords\n",
        "import numpy as np\n",
        "from sklearn.metrics.pairwise import cosine_similarity\n",
        "\n",
        "nltk.download(\"punkt\")\n",
        "nltk.download(\"stopwords\")\n",
        "\n",
        "from google.colab import files\n",
        "files.upload()"
      ]
    },
    {
      "cell_type": "code",
      "source": [
        "with open(\"TAGRBook.txt\", \"r\") as file:\n",
        "  text = file.read()"
      ],
      "metadata": {
        "id": "XSonJtoOujxC"
      },
      "execution_count": 9,
      "outputs": []
    },
    {
      "cell_type": "code",
      "source": [
        "def preprocess_text(text):\n",
        "  text = text.lower()\n",
        "  text = re.sub(r\"[^a-z\\s]\", \"\", text)\n",
        "  words = word_tokenize(text)\n",
        "  stop_words = set(stopwords.words(\"english\"))\n",
        "  words = [word for word in words if word not in stop_words]\n",
        "  return words\n",
        "\n",
        "preprocessed_tokens = preprocess_text(text)\n",
        "model = Word2Vec([preprocessed_tokens], vector_size = 100, window = 6, min_count = 2)"
      ],
      "metadata": {
        "id": "O4a_rBS-uYiT"
      },
      "execution_count": 20,
      "outputs": []
    },
    {
      "cell_type": "code",
      "source": [
        "model.wv.get_vector(\"think\")"
      ],
      "metadata": {
        "colab": {
          "base_uri": "https://localhost:8080/"
        },
        "id": "fii7blNgxAT0",
        "outputId": "3d42cfc8-f12f-438a-affa-f1fe4b3739cf"
      },
      "execution_count": 28,
      "outputs": [
        {
          "output_type": "execute_result",
          "data": {
            "text/plain": [
              "array([-0.01267777,  0.01796552, -0.00219926,  0.00161425, -0.00084724,\n",
              "       -0.0185977 ,  0.00697886,  0.03065144,  0.00154894, -0.01933925,\n",
              "        0.007396  , -0.01195818, -0.00290479,  0.00213485,  0.00998054,\n",
              "       -0.0107914 ,  0.01256396, -0.02263052, -0.00796313, -0.01872309,\n",
              "        0.0104015 ,  0.00902501,  0.02184552,  0.00580603, -0.01936772,\n",
              "        0.00967211, -0.00110262, -0.0087715 , -0.01063613,  0.00077085,\n",
              "        0.01981343, -0.00094367, -0.00576713, -0.01195841,  0.00026407,\n",
              "        0.02141009,  0.01308144, -0.01505016, -0.02391373, -0.00155212,\n",
              "        0.0013496 , -0.00348373,  0.00040865, -0.00634377,  0.0224602 ,\n",
              "       -0.00689913, -0.00772354, -0.00088608,  0.01557755,  0.00542442,\n",
              "        0.00758914, -0.01879852, -0.0172336 , -0.00968712, -0.0190212 ,\n",
              "        0.00103403,  0.00831111,  0.00861824, -0.00458203, -0.00194486,\n",
              "        0.01220685,  0.00679059,  0.01068457, -0.00334453, -0.00770796,\n",
              "        0.00954027, -0.01234034,  0.02077216, -0.01120212,  0.00284038,\n",
              "        0.00492395,  0.00615024,  0.00876382,  0.00813204,  0.01094725,\n",
              "       -0.00117215, -0.00766011,  0.00505272, -0.00989645,  0.00088513,\n",
              "       -0.01695528,  0.00077328, -0.00241383,  0.01228444,  0.00777119,\n",
              "       -0.00892408,  0.01122517,  0.02065234,  0.00771728, -0.00142476,\n",
              "        0.00798469,  0.01358989,  0.00167225,  0.00028263,  0.0326841 ,\n",
              "       -0.00271383,  0.00804558, -0.02051882,  0.00284667, -0.00604346],\n",
              "      dtype=float32)"
            ]
          },
          "metadata": {},
          "execution_count": 28
        }
      ]
    },
    {
      "cell_type": "code",
      "source": [
        "model.wv.most_similar(\"think\")"
      ],
      "metadata": {
        "colab": {
          "base_uri": "https://localhost:8080/"
        },
        "id": "tcBz35lRxOyx",
        "outputId": "c9e8cee2-dede-4b84-8c91-ca42673cb9e8"
      },
      "execution_count": 29,
      "outputs": [
        {
          "output_type": "execute_result",
          "data": {
            "text/plain": [
              "[('grow', 0.7852849960327148),\n",
              " ('rich', 0.7720537185668945),\n",
              " ('faith', 0.6684492826461792),\n",
              " ('wwwthinkandgrowrichebookcom', 0.6601950526237488),\n",
              " ('never', 0.6595385670661926),\n",
              " ('riches', 0.6583791971206665),\n",
              " ('work', 0.6465651988983154),\n",
              " ('mind', 0.6456536650657654),\n",
              " ('thought', 0.6428698301315308),\n",
              " ('one', 0.6423202753067017)]"
            ]
          },
          "metadata": {},
          "execution_count": 29
        }
      ]
    },
    {
      "cell_type": "code",
      "source": [
        "think_and_grow_rich_chapters = re.split(r\"CHAPTER \\d\", text)[16:]"
      ],
      "metadata": {
        "id": "v1T_FzDryZGZ"
      },
      "execution_count": 43,
      "outputs": []
    },
    {
      "cell_type": "code",
      "source": [
        "def get_document_vector(model, document_tokens):\n",
        "  modified_doc = [model.wv.get_vector(word) for word in document_tokens if word in model.wv.index_to_key]\n",
        "  return np.array(modified_doc).mean(axis = 0)"
      ],
      "metadata": {
        "id": "1nV0BqN0y7c_"
      },
      "execution_count": 68,
      "outputs": []
    },
    {
      "cell_type": "code",
      "source": [
        "preprocessed_chapters = [preprocess_text(chapter) for chapter in think_and_grow_rich_chapters]\n",
        "chapters_document_vector = [get_document_vector(model, chapter) for chapter in preprocessed_chapters]"
      ],
      "metadata": {
        "id": "2rc06P9wx8Ag"
      },
      "execution_count": 73,
      "outputs": []
    },
    {
      "cell_type": "code",
      "source": [
        "query = \"desire is the most impotant step towards attaining your goal\"\n",
        "query_modified = preprocess_text(query)\n",
        "query_vector = get_document_vector(model, query_modified)"
      ],
      "metadata": {
        "id": "2LCH3CbW1qrY"
      },
      "execution_count": 80,
      "outputs": []
    },
    {
      "cell_type": "code",
      "source": [
        "similarities = cosine_similarity([query_vector], chapters_document_vector)"
      ],
      "metadata": {
        "id": "2JTUZTW116Vf"
      },
      "execution_count": 81,
      "outputs": []
    },
    {
      "cell_type": "code",
      "source": [
        "ranked_chapters = sorted(enumerate(similarities[0]), key = lambda item: item[1], reverse=True)"
      ],
      "metadata": {
        "id": "vOPKgnsi2Rxf"
      },
      "execution_count": 85,
      "outputs": []
    },
    {
      "cell_type": "code",
      "source": [
        "think_and_grow_rich_chapters[ranked_chapters[0][0]]"
      ],
      "metadata": {
        "colab": {
          "base_uri": "https://localhost:8080/",
          "height": 139
        },
        "id": "Glcy98wt2jlZ",
        "outputId": "dcedf360-dfd5-4827-9d4b-c99cad74c450"
      },
      "execution_count": 88,
      "outputs": [
        {
          "output_type": "execute_result",
          "data": {
            "text/plain": [
              "'\\nINTRODUCTION\\nTHE MAN WHO \"THOUGHT\"\\nHIS WAY INTO PARTNERSHIP\\nWITH THOMAS A. EDISON\\nTRULY, \"thoughts are things,\" and powerful things at that, when they are\\nmixed with definiteness of purpose, persistence, and a BURNING DESIRE for\\ntheir translation into riches, or other material objects.\\nA little more than thirty years ago, Edwin C. Barnes discovered how true\\nit is that men really do THINK AND GROW RICH. His discovery did not come\\nabout at one sitting. It came little by little, beginning with a BURNING DESIRE\\nto become a business associate of the great Edison.\\nOne of the chief characteristics of Barnes\\' Desire was that it was definite.\\nHe wanted to work with Edison, not for him. Observe, carefully, the description\\nof how he went about translating his DESIRE into reality, and you will have a\\nbetter understanding of the thirteen principles which lead to riches.\\nWhen this DESIRE, or impulse of thought, first flashed into his mind he\\nwas in no position to act upon it. Two difficulties stood in his way. He did not\\nknow Mr. Edison, and he did not have enough money to pay his railroad fare to\\nOrange, New Jersey.\\nThese difficulties were sufficient to have discouraged the majority of men\\nfrom making any attempt to carry out the desire. But his was no ordinary desire!\\nHe was so determined to find a way to carry out his desire that he finally\\ndecided to travel by \"blind baggage,\" rather than be defeated. (To the uninitiated,\\nthis means that he went to East Orange on a freight train).\\nHe presented himself at Mr. Edison\\'s laboratory, and announced he had\\ncome to go into business with the inventor. In speaking of the first meeting\\nbetween Barnes and Edison, years later, Mr. Edison said, \"He stood there before\\nme, looking like an ordinary tramp, but there was something in the expression of his\\nface which conveyed the impression that he was determined to get what he had come after.\\nI had learned, from years of experience with men, that when a man really\\nDESIRES a thing so deeply that he is willing to stake his entire future on a single\\nturn of the wheel in order to get it, he is sure to win. I gave him the opportunity\\nDo You Feel Frustrated, Stuck Or Overwhelmed by the Concepts in this eBook?\\nDiscover How To Begin Moving Forward with FREE Audio & Video Training at :\\n\\n\\uf09a www.think-and-grow-rich-ebook.com \\uf09b\\n\\n16\\n\\n\\x0c\\uf09a THINK & GROW RICH \\uf09b\\nhe asked for, because I saw he had made up his mind to stand by until he succeeded.\\nSubsequent events proved that no mistake was made.\"\\nJust what young Barnes said to Mr. Edison on that occasion was far less\\nimportant than that which he thought. Edison, himself, said so! It could not have\\nbeen the young man\\'s appearance which got him his start in the Edison office, for\\nthat was definitely against him. It was what he THOUGHT that counted.\\nIf the significance of this statement could be conveyed to every person\\nwho reads it, there would be no need for the remainder of this book.\\nBarnes did not get his partnership with Edison on his first interview. He\\ndid get a chance to work in the Edison offices, at a very nominal wage, doing\\nwork that was unimportant to Edison, but most important to Barnes, because it\\ngave him an opportunity to display his \"merchandise\" where his intended\\n\"partner\" could see it.\\nMonths went by. Apparently nothing happened to bring the coveted goal\\nwhich Barnes had set up in his mind as his DEFINITE MAJOR PURPOSE. But\\nsomething important was happening in Barnes\\' mind. He was constantly\\nintensifying his DESIRE to become the business associate of Edison.\\nPsychologists have correctly said that \"when one is truly ready for a thing,\\nit puts in its appearance.\"\\nBarnes was ready for a business association with Edison, moreover, he\\nwas DETERMINED TO REMAIN READY UNTIL HE GOT THAT WHICH HE\\nWAS SEEKING.\\nHe did not say to himself, \"Ah well, what\\'s the use? I guess I\\'ll change my\\nmind and try for a salesman\\'s job.\" But, he did say, \"I came here to go into\\nbusiness with Edison, and I\\'ll accomplish this end if it takes the remainder of my\\nlife.\" He meant it! What a different story men would have to tell if only they\\nwould adopt a DEFINITE PURPOSE, and stand by that purpose until it had time\\nto become an all-consuming obsession!\\nMaybe young Barnes did not know it at the time, but his bulldog\\ndetermination, his persistence in standing back of a single DESIRE, was destined\\nto mow down all opposition, and bring him the opportunity he was seeking.\\nWhen the opportunity came, it appeared in a different form, and from a\\ndifferent direction than Barnes had expected. That is one of the tricks of\\nopportunity. It has a sly habit of slipping in by the back door, and often it comes\\ndisguised in the form of misfortune, or temporary defeat. Perhaps this is why so\\nmany fail to recognize opportunity.\\n\\nDo You Feel Frustrated, Stuck Or Overwhelmed by the Concepts in this eBook?\\nDiscover How To Begin Moving Forward with FREE Audio & Video Training at :\\n\\n\\uf09a www.think-and-grow-rich-ebook.com \\uf09b\\n\\n17\\n\\n\\x0c\\uf09a THINK & GROW RICH \\uf09b\\nMr. Edison had just perfected a new office device, known at that time, as\\nthe Edison Dictating Machine (now the Ediphone). His salesmen were not\\nenthusiastic over the machine. They did not believe it could be sold without great\\neffort. Barnes saw his opportunity. It had crawled in quietly, hidden in a queer\\nlooking machine which interested no one but Barnes and the inventor.\\nBarnes knew he could sell the Edison Dictating Machine. He suggested\\nthis to Edison, and promptly got his chance. He did sell the machine. In fact, he\\nsold it so successfully that Edison gave him a contract to distribute and market it\\nall over the nation. Out of that business association grew the slogan, \"Made by\\nEdison and installed by Barnes.\"\\nThe business alliance has been in operation for more than thirty years. Out\\nof it Barnes has made himself rich in money, but he has done something\\ninfinitely greater, he has proved that one really may \"Think and Grow Rich.\"\\nHow much actual cash that original DESIRE of Barnes\\' has been worth to\\nhim, I have no way of knowing. Perhaps it has brought him two or three million\\ndollars, but the amount, whatever it is, becomes insignificant when compared\\nwith the greater asset he acquired in the form of definite knowledge that an\\nintangible impulse of thought can be transmuted into its physical counterpart by the\\napplication of known principles.\\nBarnes literally thought himself into a partnership with the great Edison!\\nHe thought himself into a fortune. He had nothing to start with, except the\\ncapacity to KNOW WHAT HE WANTED, AND THE DETERMINATION TO\\nSTAND BY THAT DESIRE UNTIL HE REALIZED IT.\\nHe had no money to begin with. He had but little education. He had no\\ninfluence. But he did have initiative, faith, and the will to win. With these\\nintangible forces he made himself number one man with the greatest inventor\\nwho ever lived.\\nNow, let us look at a different situation, and study a man who had plenty\\nof tangible evidence of riches, but lost it, because he stopped three feet short of the\\ngoal he was seeking.\\n\\nTHREE FEET FROM GOLD\\nOne of the most common causes of failure is the habit of quitting when\\none is overtaken by temporary defeat. Every person is guilty of this mistake at one\\ntime or another.\\nDo You Feel Frustrated, Stuck Or Overwhelmed by the Concepts in this eBook?\\nDiscover How To Begin Moving Forward with FREE Audio & Video Training at :\\n\\n\\uf09a www.think-and-grow-rich-ebook.com \\uf09b\\n\\n18\\n\\n\\x0c\\uf09a THINK & GROW RICH \\uf09b\\nAn uncle of R. U. Darby was caught by the \"gold fever\" in the gold-rush\\ndays, and went west to DIG AND GROW RICH. He had never heard that more\\ngold has been mined from the brains of men than has ever been taken from the earth. He\\nstaked a claim and went to work with pick and shovel. The going was hard, but\\nhis lust for gold was definite.\\nAfter weeks of labor, he was rewarded by the discovery of the shining ore.\\nHe needed machinery to bring the ore to the surface. Quietly, he covered up the\\nmine, retraced his footsteps to his home in Williamsburg, Maryland, told his\\nrelatives and a few neighbors of the \"strike.\" They got together money for the\\nneeded machinery, had it shipped. The uncle and Darby went back to work the\\nmine.\\nThe first car of ore was mined, and shipped to a smelter. The returns\\nproved they had one of the richest mines in Colorado! A few more cars of that\\nore would clear the debts. Then would come the big killing in profits.\\nDown went the drills! Up went the hopes of Darby and Uncle! Then\\nsomething happened! The vein of gold ore disappeared! They had come to the\\nend of the rainbow, and the pot of gold was no longer there! They drilled on,\\ndesperately trying to pick up the vein again— all to no avail.\\nFinally, they decided to QUIT.\\nThey sold the machinery to a junk man for a few hundred dollars, and\\ntook the train back home. Some \"junk\" men are dumb, but not this one! He called\\nin a mining engineer to look at the mine and do a little calculating. The engineer\\nadvised that the project had failed, because the owners were not familiar with\\n\"fault lines.\" His calculations showed that the vein would be found JUST THREE\\nFEET FROM WHERE THE DARBYS HAD STOPPED DRILLING! That is exactly\\nwhere it was found!\\nThe \"Junk\" man took millions of dollars in ore from the mine, because he\\nknew enough to seek expert counsel before giving up.\\nMost of the money which went into the machinery was procured through\\nthe efforts of R. U. Darby, who was then a very young man. The money came\\nfrom his relatives and neighbors, because of their faith in him. He paid back\\nevery dollar of it, although he was years in doing so.\\nLong afterward, Mr. Darby recouped his loss many times over, when he\\nmade the discovery that DESIRE can be transmuted into gold. The discovery came\\nafter he went into the business of selling life insurance.\\nRemembering that he lost a huge fortune, because he STOPPED three feet\\nfrom gold, Darby profited by the experience in his chosen work, by the simple\\nDo You Feel Frustrated, Stuck Or Overwhelmed by the Concepts in this eBook?\\nDiscover How To Begin Moving Forward with FREE Audio & Video Training at :\\n\\n\\uf09a www.think-and-grow-rich-ebook.com \\uf09b\\n\\n19\\n\\n\\x0c\\uf09a THINK & GROW RICH \\uf09b\\nmethod of saying to himself, \"I stopped three feet from gold, but I will never stop\\nbecause men say \\'no\\' when I ask them to buy insurance.\"\\nDarby is one of a small group of fewer than fifty men who sell more than a\\nmillion dollars in life insurance annually. He owes his \"stickability\" to the lesson\\nhe learned from his \"quitability\" in the gold mining business.\\nBefore success comes in any man\\'s life, he is sure to meet with much\\ntemporary defeat, and, perhaps, some failure. When defeat overtakes a man, the\\neasiest and most logical thing to do is to QUIT. That is exactly what the majority\\nof men do.\\nMore than five hundred of the most successful men this country has ever\\nknown, told the author their greatest success came just one step beyond the point\\nat which defeat had overtaken them. Failure is a trickster with a keen sense of\\nirony and cunning. It takes great delight in tripping one when success is almost\\nwithin reach.\\n\\nA FIFTY-CENT LESSON IN PERSISTENCE\\nShortly after Mr. Darby received his degree from the \"University of Hard\\nKnocks,\" and had decided to profit by his experience in the gold mining\\nbusiness, he had the good fortune to be present on an occasion that proved to\\nhim that \"No\" does not necessarily mean no.\\nOne afternoon he was helping his uncle grind wheat in an old fashioned\\nmill. The uncle operated a large farm on which a number of colored sharecrop\\nfarmers lived. Quietly, the door was opened, and a small colored child, the\\ndaughter of a tenant, walked in and took her place near the door.\\nThe uncle looked up, saw the child, and barked at her roughly, \"what do\\nyou want?\"\\nMeekly, the child replied, \"My mammy say send her fifty cents.\"\\n\"I\\'ll not do it,\" the uncle retorted, \"Now you run on home.\"\\n\"Yas sah,\" the child replied. But she did not move.\\nThe uncle went ahead with his work, so busily engaged that he did not\\npay enough attention to the child to observe that she did not leave. When he\\nlooked up and saw her still standing there, he yelled at her, \"I told you to go on\\nhome! Now go, or I\\'ll take a switch to you.\"\\nThe little girl said \"yas sah,\" but she did not budge an inch.\\nDo You Feel Frustrated, Stuck Or Overwhelmed by the Concepts in this eBook?\\nDiscover How To Begin Moving Forward with FREE Audio & Video Training at :\\n\\n\\uf09a www.think-and-grow-rich-ebook.com \\uf09b\\n\\n20\\n\\n\\x0c\\uf09a THINK & GROW RICH \\uf09b\\nThe uncle dropped a sack of grain he was about to pour into the mill\\nhopper, picked up a barrel stave, and started toward the child with an expression\\non his face that indicated trouble.\\nDarby held his breath. He was certain he was about to witness a murder.\\nHe knew his uncle had a fierce temper. He knew that colored children were not\\nsupposed to defy white people in that part of the country.\\nWhen the uncle reached the spot where the child was standing, she\\nquickly stepped forward one step, looked up into his eyes, and screamed at the\\ntop of her shrill voice, \"MY MAMMY\\'S GOTTA HAVE THAT FIFTY CENTS!\"\\nThe uncle stopped, looked at her for a minute, then slowly laid the barrel\\nstave on the floor, put his hand in his pocket, took out half a dollar, and gave it to\\nher.\\nThe child took the money and slowly backed toward the door, never\\ntaking her eyes off the man whom she had just conquered. After she had gone, the\\nuncle sat down on a box and looked out the window into space for more than ten\\nminutes. He was pondering, with awe, over the whipping he had just taken.\\nMr. Darby, too, was doing some thinking. That was the first time in all his\\nexperience that he had seen a colored child deliberately master an adult white\\nperson. How did she do it? What happened to his uncle that caused him to lose\\nhis fierceness and become as docile as a lamb? What strange power did this child\\nuse that made her master over her superior? These and other similar questions\\nflashed into Darby\\'s mind, but he did not find the answer until years later, when\\nhe told me the story.\\nStrangely, the story of this unusual experience was told to the author in\\nthe old mill, on the very spot where the uncle took his whipping. Strangely, too, I\\nhad devoted nearly a quarter of a century to the study of the power which\\nenabled an ignorant, illiterate colored child to conquer an intelligent man.\\nAs we stood there in that musty old mill, Mr. Darby repeated the story of\\nthe unusual conquest, and finished by asking, \"What can you make of it? What\\nstrange power did that child use, that so completely whipped my uncle?\"\\nThe answer to his question will be found in the principles described in this\\nbook. The answer is full and complete. It contains details and instructions\\nsufficient to enable anyone to understand, and apply the same force which the\\nlittle child accidentally stumbled upon.\\nKeep your mind alert, and you will observe exactly what strange power\\ncame to the rescue of the child, you will catch a glimpse of this power in the next\\nchapter. Somewhere in the book you will find an idea that will quicken your\\nDo You Feel Frustrated, Stuck Or Overwhelmed by the Concepts in this eBook?\\nDiscover How To Begin Moving Forward with FREE Audio & Video Training at :\\n\\n\\uf09a www.think-and-grow-rich-ebook.com \\uf09b\\n\\n21\\n\\n\\x0c\\uf09a THINK & GROW RICH \\uf09b\\nreceptive powers, and place at your command, for your own benefit, this same\\nirresistible power. The awareness of this power may come to you in the first\\nchapter, or it may flash into your mind in some subsequent chapter. It may come\\nin the form of a single idea. Or, it may come in the nature of a plan, or a purpose.\\nAgain, it may cause you to go back into your past experiences of failure or defeat,\\nand bring to the surface some lesson by which you can regain all that you lost\\nthrough defeat.\\nAfter I had described to Mr. Darby the power unwittingly used by the\\nlittle colored child, he quickly retraced his thirty years of experience as a life\\ninsurance salesman, and frankly acknowledged that his success in that field was\\ndue, in no small degree, to the lesson he had learned from the child.\\nMr. Darby pointed out: \"every time a prospect tried to bow me out, without\\nbuying, I saw that child standing there in the old mill, her big eyes glaring in\\ndefiance, and I said to myself, \\'I\\'ve gotta make this sale. \\' The better portion of all\\nsales I have made, were made after people had said \\'NO\\'.\"\\nHe recalled, too, his mistake in having stopped only three feet from gold,\\n\"but,\" he said, \"that experience was a blessing in disguise. It taught me to keep on\\nkeeping on, no matter how hard the going may be, a lesson I needed to learn\\nbefore I could succeed in anything.\"\\nThis story of Mr. Darby and his uncle, the colored child and the gold\\nmine, doubtless will be read by hundreds of men who make their living by\\nselling life insurance, and to all of these, the author wishes to offer the suggestion\\nthat Darby owes to these two experiences his ability to sell more than a million\\ndollars of life insurance every year.\\nLife is strange, and often imponderable! Both the successes and the\\nfailures have their roots in simple experiences. Mr. Darby\\'s experiences were\\ncommonplace and simple enough, yet they held the answer to his destiny in life,\\ntherefore they were as important (to him) as life itself. He profited by these two\\ndramatic experiences, because he analyzed them, and found the lesson they taught.\\nBut what of the man who has neither the time, nor the inclination to study failure\\nin search of knowledge that may lead to success? Where, and how is he to learn\\nthe art of converting defeat into stepping stones to opportunity?\\nIn answer to these questions, this book was written.\\nThe answer called for a description of thirteen principles, but remember,\\nas you read, the answer you may be seeking, to the questions which have caused\\nyou to ponder over the strangeness of life, may be found in your own mind,\\n\\nDo You Feel Frustrated, Stuck Or Overwhelmed by the Concepts in this eBook?\\nDiscover How To Begin Moving Forward with FREE Audio & Video Training at :\\n\\n\\uf09a www.think-and-grow-rich-ebook.com \\uf09b\\n\\n22\\n\\n\\x0c\\uf09a THINK & GROW RICH \\uf09b\\nthrough some idea, plan, or purpose which may spring into your mind as you\\nread.\\nOne sound idea is all that one needs to achieve success. The principles\\ndescribed in this book, contain the best, and the most practical of all that is\\nknown, concerning ways and means of creating useful ideas.\\nBefore we go any further in our approach to the description of these\\nprinciples, we believe you are entitled to receive this important suggestion….\\nWHEN RICHES BEGIN TO COME THEY COME SO QUICKLY, IN SUCH\\nGREAT ABUNDANCE, THAT ONE WONDERS WHERE THEY HAVE BEEN\\nHIDING DURING ALL THOSE LEAN YEARS. This is an astounding statement,\\nand all the more so, when we take into consideration the popular belief, that\\nriches come only to those who work hard and long.\\nWhen you begin to THINK AND GROW RICH, you will observe that\\nriches begin with a state of mind, with definiteness of purpose, with little or no\\nhard work. You, and every other person, ought to be interested in knowing how\\nto acquire that state of mind which will attract riches. I spent twenty-five years in\\nresearch, analyzing more than 25,000 people, because I, too, wanted to know\\n\"how wealthy men become that way.\\nWithout that research, this book could not have been written.\\nHere take notice of a very significant truth, viz:\\nThe business depression started in 1929, and continued on to an all time\\nrecord of destruction, until sometime after President Roosevelt entered office.\\nThen the depression began to fade into nothingness. Just as an electrician in a\\ntheatre raises the lights so gradually that darkness is transmuted into light before\\nyou realize it, so did the spell of fear in the minds of the people gradually fade\\naway and become faith.\\nObserve very closely, as soon as you master the principles of this\\nphilosophy, and begin to follow the instructions for applying those principles,\\nyour financial status will begin to improve, and everything you touch will begin\\nto transmute itself into an asset for your benefit. Impossible? Not at all!\\nOne of the main weaknesses of mankind is the average man\\'s familiarity\\nwith the word \"impossible.\" He knows all the rules which will NOT work. He\\nknows all the things which CANNOT be done. This book was written for those\\nwho seek the rules which have made others successful, and are willing to stake\\neverything on those rules.\\n\\nDo You Feel Frustrated, Stuck Or Overwhelmed by the Concepts in this eBook?\\nDiscover How To Begin Moving Forward with FREE Audio & Video Training at :\\n\\n\\uf09a www.think-and-grow-rich-ebook.com \\uf09b\\n\\n23\\n\\n\\x0c\\uf09a THINK & GROW RICH \\uf09b\\nA great many years ago I purchased a fine dictionary. The first thing I did\\nwith it was to turn to the word \"impossible,\" and neatly clip it out of the book.\\nThat would not be an unwise thing for you to do.\\nSuccess comes to those who become SUCCESS CONSCIOUS.\\nFailure comes to those who indifferently allow themselves to become\\nFAILURE CONSCIOUS.\\nThe object of this book is to help all who seek it, to learn the art of\\nchanging their minds from FAILURE CONSCIOUSNESS to SUCCESS\\nCONSCIOUSNESS.\\nAnother weakness found in altogether too many people, is the habit of\\nmeasuring everything, and everyone, by their own impressions and beliefs. Some\\nwho will read this, will believe that no one can THINK AND GROW RICH. They\\ncannot think in terms of riches, because their thought habits have been steeped in\\npoverty, want, misery, failure, and defeat.\\nThese unfortunate people remind me of a prominent Chinese, who came\\nto America to be educated in American ways. He attended the University of\\nChicago. One day President Harper met this young Oriental on the campus,\\nstopped to chat with him for a few minutes, and asked what had impressed him\\nas being the most noticeable characteristic of the American people.\\n\"Why,\" the Chinaman exclaimed, \"the queer slant of your eyes. Your eyes\\nare off slant!\"\\nWhat do we say about the Chinese?\\nWe refuse to believe that which we do not understand. We foolishly\\nbelieve that our own limitations are the proper measure of limitations. Sure, the\\nother fellow\\'s eyes are \"off slant,\" BECAUSE THEY ARE NOT THE SAME AS\\nOUR OWN.\\nMillions of people look at the achievements of Henry Ford, after he has\\narrived, and envy him, because of his good fortune, or luck, or genius, or\\nwhatever it is that they credit for Ford\\'s fortune. Perhaps one person in every\\nhundred thousand knows the secret of Ford\\'s success, and those who do know\\nare too modest, or too reluctant, to speak of it, because of its simplicity. A single\\ntransaction will illustrate the \"secret\" perfectly.\\nA few years back, Ford decided to produce his now famous V-8 motor. He\\nchose to build an engine with the entire eight cylinders cast in one block, and\\ninstructed his engineers to produce a design for the engine. The design was\\nplaced on paper, but the engineers agreed, to a man, that it was simply impossible\\nto cast an eight-cylinder gas engine block in one piece.\\nDo You Feel Frustrated, Stuck Or Overwhelmed by the Concepts in this eBook?\\nDiscover How To Begin Moving Forward with FREE Audio & Video Training at :\\n\\n\\uf09a www.think-and-grow-rich-ebook.com \\uf09b\\n\\n24\\n\\n\\x0c\\uf09a THINK & GROW RICH \\uf09b\\nFord said, \"Produce it anyway.\"\\n\"But,\" they replied, \"it\\'s impossible!\"\\n\"Go ahead,\" Ford commanded, \"and stay on the job until you succeed no\\nmatter how much time is required.\"\\nThe engineers went ahead. There was nothing else for them to do, if they\\nwere to remain on the Ford staff. Six months went by, nothing happened.\\nAnother six months passed, and still nothing happened. The engineers tried\\nevery conceivable plan to carry out the orders, but the thing seemed out of the\\nquestion; \"impossible!\"\\nAt the end of the year Ford checked with his engineers, and again they\\ninformed him they had found no way to carry out his orders.\\n\"Go right ahead,\" said Ford, \"I want it, and I\\'ll have it.\"\\nThey went ahead, and then, as if by a stroke of magic, the secret was\\ndiscovered.\\nThe Ford DETERMINATION had won once more!\\nThis story may not be described with minute accuracy, but the sum and\\nsubstance of it is correct. Deduce from it, you who wish to THINK AND GROW\\nRICH, the secret of the Ford millions, if you can. You\\'ll not have to look very far.\\nHenry Ford is a success, because he understands, and applies the principles\\nof success. One of these is DESIRE: knowing what one wants. Remember this\\nFord story as you read, and pick out the lines in which the secret of his\\nstupendous achievement have been described. If you can do this, if you can lay\\nyour finger on the particular group of principles which made Henry Ford rich,\\nyou can equal his achievements in almost any calling for which you are suited.\\nYOU ARE \"THE MASTER OF YOUR FATE, THE CAPTAIN OF YOUR\\nSOUL,\" BECAUSE…\\nWhen Henley wrote the prophetic lines, \"I am the Master of my Fate, I am\\nthe Captain of my Soul,\" he should have informed us that we are the Masters of\\nour Fate, the Captains of our Souls, because we have the power to control our\\nthoughts.\\nHe should have told us that the ether in which this little earth floats, in\\nwhich we move and have our being, is a form of energy moving at an\\ninconceivably high rate of vibration, and that the ether is filled with a form of\\nuniversal power which ADAPTS itself to the nature of the thoughts we hold in\\n\\nDo You Feel Frustrated, Stuck Or Overwhelmed by the Concepts in this eBook?\\nDiscover How To Begin Moving Forward with FREE Audio & Video Training at :\\n\\n\\uf09a www.think-and-grow-rich-ebook.com \\uf09b\\n\\n25\\n\\n\\x0c\\uf09a THINK & GROW RICH \\uf09b\\nour minds; and INFLUENCES us, in natural ways, to transmute our thoughts\\ninto their physical equivalent.\\nIf the poet had told us of this great truth, we would know WHY IT IS that\\nwe are the Masters of our Fate, the Captains of our Souls. He should have told\\nus, with great emphasis, that this power makes no attempt to discriminate\\nbetween destructive thoughts and constructive thoughts, that it will urge us to\\ntranslate into physical reality thoughts of poverty, just as quickly as it will\\ninfluence us to act upon thoughts of riches.\\nHe should have told us, too, that our brains become magnetized with the\\ndominating thoughts which we hold in our minds, and, by means with which no\\nman is familiar, these \"magnets\" attract to us the forces, the people, the\\ncircumstances of life which harmonize with the nature of our dominating\\nthoughts.\\nHe should have told us, that before we can accumulate riches in great\\nabundance, we must magnetize our minds with intense DESIRE for riches, that\\nwe must become \"money conscious until the DESIRE for money drives us to\\ncreate definite plans for acquiring it.\\nBut, being a poet, and not a philosopher, Henley contented himself by\\nstating a great truth in poetic form, leaving those who followed him to interpret\\nthe philosophical meaning of his lines.\\nLittle by little, the truth has unfolded itself, until it now appears certain\\nthat the principles described in this book, hold the secret of mastery over our\\neconomic fate.\\nWe are now ready to examine the first of these principles. Maintain a\\nspirit of open-mindedness, and remember as you read, they are the invention of\\nno one man. The principles were gathered from the life experiences of more than\\n500 men who actually accumulated riches in huge amounts; men who began in\\npoverty, with but little education, without influence. The principles worked for\\nthese men. You can put them to work for your own enduring benefit.\\nYou will find it easy, not hard, to do.\\nBefore you read the next chapter, I want you to know that it conveys\\nfactual information which might easily change your entire financial destiny, as it\\nhas so definitely brought changes of stupendous proportions to two people\\ndescribed.\\nI want you to know, also, that the relationship between these two men and\\nmyself, is such that I could have taken no liberties with the facts, even if I had\\nwished to do so. One of them has been my closest personal friend for almost\\nDo You Feel Frustrated, Stuck Or Overwhelmed by the Concepts in this eBook?\\nDiscover How To Begin Moving Forward with FREE Audio & Video Training at :\\n\\n\\uf09a www.think-and-grow-rich-ebook.com \\uf09b\\n\\n26\\n\\n\\x0c\\uf09a THINK & GROW RICH \\uf09b\\ntwenty-five years, the other is my own son. The unusual success of these two\\nmen, success which they generously accredit to the principle described in the\\nnext chapter, more than justifies this personal reference as a means of\\nemphasizing the far-flung power of this principle.\\nAlmost fifteen years ago, I delivered the Commencement Address at\\nSalem College, Salem, West Virginia. I emphasized the principle described in the\\nnext chapter, with so much intensity that one of the members of the graduating\\nclass definitely appropriated it, and made it a part of his own philosophy. The\\nyoung man is now a Member of Congress, and an important factor in the present\\nadministration. Just before this book went to the publisher, he wrote me a letter\\nin which he so clearly stated his opinion of the principle outlined in the next\\nchapter, that I have chosen to publish his letter as an introduction to that chapter.\\nIt gives you an idea of the rewards to come.\\n\"My dear Napoleon:\\n\"My service as a Member of Congress having given me an insight\\ninto the problems of men and women, I am writing to offer a suggestion\\nwhich may become helpful to thousands of worthy people.\\n\"With apologies, I must state that the suggestion, if acted upon,\\nwill mean several years of labor and responsibility for you, but I am\\nenheartened to make the suggestion, because I know your great love for\\nrendering useful service.\\n\"In 1922, you delivered the Commencement address at Salem\\nCollege, when I was a member\\' of the graduating class. In that address,\\nyou planted in my mind an idea which has been responsible for the\\nopportunity I now have to serve the people of my State, and will be\\nresponsible, in a very large measure, for whatever success I may have in\\nthe future.\\n\"The suggestion I have in mind is, that you put into a book the\\nsum and substance of the address you delivered at Salem College, and in\\nthat way give the people of America an opportunity to profit by your\\nmany years of experience and association with the men who, by their\\ngreatness, have made America the richest nation on earth.\\n\"I recall, as though it were yesterday, the marvelous description\\nyou gave of the method by which Henry Ford, with but little schooling,\\nwithout a dollar, with no influential friends, rose to great heights. I made\\nup my mind then, even before you had finished your speech, that I would\\nDo You Feel Frustrated, Stuck Or Overwhelmed by the Concepts in this eBook?\\nDiscover How To Begin Moving Forward with FREE Audio & Video Training at :\\n\\n\\uf09a www.think-and-grow-rich-ebook.com \\uf09b\\n\\n27\\n\\n\\x0c\\uf09a THINK & GROW RICH \\uf09b\\nmake a place for myself, no matter how many difficulties I had to\\nsurmount.\\n\"Thousands of young people will finish their schooling this year,\\nand within the next few years. Every one of them will be seeking just such\\na message of practical encouragement as the one I received from you. They\\nwill want to know where to turn, what to do, to get started in life. You\\ncan tell them, because you have helped to solve the problems of so many,\\nmany people.\\n\"If there is any possible way that you can afford to render so great\\na service, may I offer the suggestion that you include with every book, one\\nof your Personal Analysis Charts, in order that the purchaser of the book\\nmay have the benefit of a complete self-inventory, indicating, as you\\nindicated to me years ago, exactly what is standing in the way of success.\\n\"Such a service as this, providing the readers of your book with a\\ncomplete, unbiased picture of their faults and their virtues, would mean to\\nthem the difference between success and failure. The service would be\\npriceless.\\n\"Millions of people are now facing the problem of staging a\\ncomeback, because of the depression, and I speak from personal experience\\nwhen I say, I know these earnest people would welcome the opportunity to\\ntell you their problems, and to receive your suggestions for the solution.\\n\"You know the problems of those who face the necessity of\\nbeginning all over again. There are thousands of people in America today\\nwho would like to know how they can convert ideas into money, people\\nwho must start at scratch, without finances, and recoup their losses. If\\nanyone can help them, you can.\\n\"If you publish the book, I would like to own the first copy that\\ncomes from the press, personally autographed by you.\\n\"With best wishes, believe me,\\n\"Cordially yours,\\n\"JENNINGS RANDOLPH\"\\n\\nDo You Feel Frustrated, Stuck Or Overwhelmed by the Concepts in this eBook?\\nDiscover How To Begin Moving Forward with FREE Audio & Video Training at :\\n\\n\\uf09a www.think-and-grow-rich-ebook.com \\uf09b\\n\\n28\\n\\n\\x0c\\uf09a THINK & GROW RICH \\uf09b\\n'"
            ],
            "application/vnd.google.colaboratory.intrinsic+json": {
              "type": "string"
            }
          },
          "metadata": {},
          "execution_count": 88
        }
      ]
    },
    {
      "cell_type": "code",
      "source": [],
      "metadata": {
        "id": "Vb6okTfq2zVw"
      },
      "execution_count": null,
      "outputs": []
    }
  ]
}